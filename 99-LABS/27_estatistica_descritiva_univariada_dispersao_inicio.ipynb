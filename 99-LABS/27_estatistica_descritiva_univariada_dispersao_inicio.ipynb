{
 "cells": [
  {
   "cell_type": "markdown",
   "metadata": {},
   "source": [
    "# Estatística descritiva univariada"
   ]
  },
  {
   "cell_type": "markdown",
   "metadata": {},
   "source": [
    "## Medidas-resumo usuais em estatística descritiva univariada"
   ]
  },
  {
   "cell_type": "markdown",
   "metadata": {},
   "source": [
    "### Medidas de dispersão ou variabilidade"
   ]
  },
  {
   "cell_type": "markdown",
   "metadata": {},
   "source": [
    "Duas ou mais distribuições podem possuir as mesmas medidas de posição e serem completamente diferentes, pois os seus elementos podem estar mais ou menos dispersos, ou seja, ao escolher uma medida de posição para representar a distribuição, a sua variabilidade fica oculta. A dispersão é a tendência dos dados de se espalharem em torno de uma medida de posição, geralmente a média, ou seja, o quanto um conjunto de dados é homogêneo ou heterogêneo. As medidas mais comuns de dispersão são:\n",
    "\n",
    "- dispersão absoluta: amplitude, desvio médio, variância e desvio-padrão\n",
    "- dispersão relativa: variância relativa e coeficiente de variação"
   ]
  },
  {
   "cell_type": "code",
   "execution_count": 2,
   "metadata": {},
   "outputs": [],
   "source": [
    "# exemplo simples\n",
    "import pandas as pd\n",
    "\n",
    "exemplo = {\n",
    "    \"x\": [70, 70, 70, 70, 70],\n",
    "    \"y\": [68, 69, 70, 71, 72],\n",
    "    \"z\": [5, 15, 50, 120, 160],\n",
    "}\n",
    "\n",
    "df = pd.DataFrame(exemplo)\n",
    "\n"
   ]
  },
  {
   "cell_type": "code",
   "execution_count": 4,
   "metadata": {},
   "outputs": [
    {
     "data": {
      "text/plain": [
       "<Axes: xlabel='x', ylabel='y'>"
      ]
     },
     "execution_count": 4,
     "metadata": {},
     "output_type": "execute_result"
    },
    {
     "data": {
      "image/png": "[encoded data removed]",
      "text/plain": [
       "<Figure size 640x480 with 1 Axes>"
      ]
     },
     "metadata": {},
     "output_type": "display_data"
    }
   ],
   "source": [
    "df.plot(kind='scatter', x='x', y='y', s=df['z'])"
   ]
  },
  {
   "cell_type": "markdown",
   "metadata": {},
   "source": [
    "A medida mais simples é a amplitude total, que é a diferença entre o maior e o menor valor do conjunto de dados. A amplitude total é uma medida de dispersão que é sensível a valores extremos, pois é calculada a partir de apenas dois valores.\n",
    "\n",
    "$$\n",
    "A = X_{max} - X_{min}\n",
    "$$"
   ]
  },
  {
   "cell_type": "code",
   "execution_count": null,
   "metadata": {},
   "outputs": [],
   "source": []
  },
  {
   "cell_type": "markdown",
   "metadata": {},
   "source": [
    "O desvio é a diferença entre cada valor observado e a média da variável. Assim, para dados populacionais, seria representado por $X_i - \\mu$, e para dados amostrais, por $X_i - \\bar{X}$. O desvio médio, ou desvio-médio absoluto, é a média dos desvios, ou seja, a média aritmética dos valores absolutos dos desvios.\n",
    "\n",
    "Para dados não agrupados, o desvio médio é calculado pela fórmula:\n",
    "\n",
    "$$\n",
    "D_m = \\frac{\\sum\\limits_{i=1}^{n} |X_i - \\bar{X}|}{n} \\quad \\text{(para amostras)}\n",
    "$$\n",
    "$$\n",
    "D_m = \\frac{\\sum\\limits_{i=1}^{N} |X_i - \\mu|}{N} \\quad \\text{(para populações)}\n",
    "$$"
   ]
  },
  {
   "cell_type": "code",
   "execution_count": null,
   "metadata": {},
   "outputs": [],
   "source": []
  },
  {
   "cell_type": "code",
   "execution_count": null,
   "metadata": {},
   "outputs": [],
   "source": []
  },
  {
   "cell_type": "code",
   "execution_count": null,
   "metadata": {},
   "outputs": [],
   "source": []
  },
  {
   "cell_type": "code",
   "execution_count": null,
   "metadata": {},
   "outputs": [],
   "source": []
  },
  {
   "cell_type": "code",
   "execution_count": null,
   "metadata": {},
   "outputs": [],
   "source": []
  },
  {
   "cell_type": "markdown",
   "metadata": {},
   "source": [
    "A variância é uma medida de dispersão que avalia o quanto os dados estão dispersos em relação à média aritmética. Em vez de considerar a média dos desvios absolutos, a variância considera a média dos desvios ao quadrado.\n",
    "\n",
    "Para dados não agrupados, a variância é calculada pela fórmula:\n",
    "\n",
    "$$\n",
    "S^2 = \\frac{\\sum\\limits_{i=1}^{n} (X_i - \\bar{X})^2}{n-1} \\quad \\text{(para amostras)}\n",
    "$$\n",
    "$$\n",
    "\\sigma^2 = \\frac{\\sum\\limits_{i=1}^{N} (X_i - \\mu)^2}{N} \\quad \\text{(para populações)}\n",
    "$$\n",
    "\n",
    "A relação entre a variância amostal e populacional é dada por:\n",
    "\n",
    "$$\n",
    "S^2 = \\frac{N}{n-1} \\sigma^2\n",
    "$$"
   ]
  },
  {
   "cell_type": "code",
   "execution_count": null,
   "metadata": {},
   "outputs": [],
   "source": []
  },
  {
   "cell_type": "code",
   "execution_count": null,
   "metadata": {},
   "outputs": [],
   "source": []
  },
  {
   "cell_type": "code",
   "execution_count": null,
   "metadata": {},
   "outputs": [],
   "source": []
  },
  {
   "cell_type": "code",
   "execution_count": null,
   "metadata": {},
   "outputs": [],
   "source": []
  },
  {
   "cell_type": "markdown",
   "metadata": {},
   "source": [
    "Como a variância considera os desvios ao quadrado, a unidade de medida da variância é o quadrado da unidade de medida da variável original e seu valor tende a ser muito grande e de difícil interpretação. Para obter uma medida de dispersão na mesma unidade de medida dos dados, é necessário calcular a raiz quadrada da variância, obtendo-se o desvio-padrão.\n",
    "\n",
    "O desvio-padrão é calculado pela fórmula:\n",
    "\n",
    "$$\n",
    "S = \\sqrt{S^2} \\quad \\text{(para amostras)}\n",
    "$$\n",
    "$$\n",
    "\\sigma = \\sqrt{\\sigma^2} \\quad \\text{(para populações)}\n",
    "$$"
   ]
  },
  {
   "cell_type": "code",
   "execution_count": null,
   "metadata": {},
   "outputs": [],
   "source": []
  },
  {
   "cell_type": "code",
   "execution_count": null,
   "metadata": {},
   "outputs": [],
   "source": []
  },
  {
   "cell_type": "code",
   "execution_count": null,
   "metadata": {},
   "outputs": [],
   "source": []
  },
  {
   "cell_type": "code",
   "execution_count": null,
   "metadata": {},
   "outputs": [],
   "source": []
  },
  {
   "cell_type": "markdown",
   "metadata": {},
   "source": [
    "O coeficiente de variação é uma medida de dispersão relativa que expressa a variabilidade dos dados em relação à média. O coeficiente de variação é uma medida adimensional, ou seja, não possui unidade de medida. Quanto menor for o seu valor, mais homogêneo é o conjunto de dados.\n",
    "\n",
    "O coeficiente de variação é calculado pela fórmula:\n",
    "\n",
    "$$\n",
    "CV = \\frac{S}{\\bar{X}} \\times 100 \\quad \\text{(para amostras)}\n",
    "$$\n",
    "$$\n",
    "CV = \\frac{\\sigma}{\\mu} \\times 100 \\quad \\text{(para populações)}\n",
    "$$"
   ]
  },
  {
   "cell_type": "code",
   "execution_count": null,
   "metadata": {},
   "outputs": [],
   "source": []
  },
  {
   "cell_type": "code",
   "execution_count": null,
   "metadata": {},
   "outputs": [],
   "source": []
  },
  {
   "cell_type": "code",
   "execution_count": null,
   "metadata": {},
   "outputs": [],
   "source": []
  },
  {
   "cell_type": "code",
   "execution_count": null,
   "metadata": {},
   "outputs": [],
   "source": []
  },
  {
   "cell_type": "code",
   "execution_count": null,
   "metadata": {},
   "outputs": [],
   "source": []
  },
  {
   "cell_type": "code",
   "execution_count": null,
   "metadata": {},
   "outputs": [],
   "source": [
    "DADOS = \"./dados/carrots.csv\"\n",
    "\n",
    "df_cenouras = pd.read_csv(DADOS)\n",
    "\n",
    "df_cenouras.head()"
   ]
  },
  {
   "cell_type": "code",
   "execution_count": null,
   "metadata": {},
   "outputs": [],
   "source": []
  },
  {
   "cell_type": "code",
   "execution_count": null,
   "metadata": {},
   "outputs": [],
   "source": []
  },
  {
   "cell_type": "code",
   "execution_count": null,
   "metadata": {},
   "outputs": [],
   "source": []
  },
  {
   "cell_type": "code",
   "execution_count": null,
   "metadata": {},
   "outputs": [],
   "source": []
  },
  {
   "cell_type": "code",
   "execution_count": null,
   "metadata": {},
   "outputs": [],
   "source": []
  },
  {
   "cell_type": "code",
   "execution_count": null,
   "metadata": {},
   "outputs": [],
   "source": [
    "DADOS = \"./dados/grades.csv\"\n",
    "\n",
    "df_notas = pd.read_csv(DADOS)\n",
    "\n",
    "df_notas.head()"
   ]
  },
  {
   "cell_type": "code",
   "execution_count": null,
   "metadata": {},
   "outputs": [],
   "source": []
  },
  {
   "cell_type": "code",
   "execution_count": null,
   "metadata": {},
   "outputs": [],
   "source": []
  }
 ],
 "metadata": {
  "kernelspec": {
   "display_name": "base",
   "language": "python",
   "name": "python3"
  },
  "language_info": {
   "codemirror_mode": {
    "name": "ipython",
    "version": 3
   },
   "file_extension": ".py",
   "mimetype": "text/x-python",
   "name": "python",
   "nbconvert_exporter": "python",
   "pygments_lexer": "ipython3",
   "version": "3.12.4"
  }
 },
 "nbformat": 4,
 "nbformat_minor": 4
}
